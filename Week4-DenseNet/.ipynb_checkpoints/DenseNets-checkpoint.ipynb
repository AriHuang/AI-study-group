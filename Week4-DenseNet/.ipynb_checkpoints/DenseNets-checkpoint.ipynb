{
 "cells": [
  {
   "cell_type": "markdown",
   "metadata": {
    "collapsed": true
   },
   "source": [
    "# DenseNets Demo program\n",
    "by Sting Huang\n",
    "\n",
    "## Implement base on Laurent Mazare's github\n",
    "https://github.com/LaurentMazare/deep-models/tree/master/densenet"
   ]
  },
  {
   "cell_type": "markdown",
   "metadata": {
    "collapsed": false
   },
   "source": [
    "## Load cifar dataset\n",
    "### training data 50000 and validation data 10000"
   ]
  },
  {
   "cell_type": "code",
   "execution_count": 1,
   "metadata": {
    "collapsed": false
   },
   "outputs": [
    {
     "name": "stdout",
     "output_type": "stream",
     "text": [
      "load image from .. cifar-10/data_batch_2\n",
      "load image from .. cifar-10/data_batch_3\n",
      "load image from .. cifar-10/data_batch_4\n",
      "load image from .. cifar-10/data_batch_5\n",
      "load image from .. cifar-10/data_batch_1\n"
     ]
    }
   ],
   "source": [
    "from cifar_dataset import cifar_dataset\n",
    "dataset = cifar_dataset()"
   ]
  },
  {
   "cell_type": "markdown",
   "metadata": {
    "collapsed": false
   },
   "source": [
    "### Take a look on data\n",
    "\n"
   ]
  },
  {
   "cell_type": "code",
   "execution_count": 2,
   "metadata": {
    "collapsed": false
   },
   "outputs": [
    {
     "name": "stdout",
     "output_type": "stream",
     "text": [
      "b'automobile'\n"
     ]
    },
    {
     "data": {
      "image/png": "[encoded data removed]",
      "text/plain": [
       "<PIL.Image.Image image mode=RGB size=32x32 at 0x7FD6580BAC88>"
      ]
     },
     "metadata": {},
     "output_type": "display_data"
    },
    {
     "name": "stdout",
     "output_type": "stream",
     "text": [
      "b'horse'\n"
     ]
    },
    {
     "data": {
      "image/png": "[encoded data removed]",
      "text/plain": [
       "<PIL.Image.Image image mode=RGB size=32x32 at 0x7FD6580BACC0>"
      ]
     },
     "metadata": {},
     "output_type": "display_data"
    },
    {
     "name": "stdout",
     "output_type": "stream",
     "text": [
      "b'bird'\n"
     ]
    },
    {
     "data": {
      "image/png": "[encoded data removed]",
      "text/plain": [
       "<PIL.Image.Image image mode=RGB size=32x32 at 0x7FD6580BAC88>"
      ]
     },
     "metadata": {},
     "output_type": "display_data"
    },
    {
     "name": "stdout",
     "output_type": "stream",
     "text": [
      "b'dog'\n"
     ]
    },
    {
     "data": {
      "image/png": "[encoded data removed]",
      "text/plain": [
       "<PIL.Image.Image image mode=RGB size=32x32 at 0x7FD6580BACC0>"
      ]
     },
     "metadata": {},
     "output_type": "display_data"
    },
    {
     "name": "stdout",
     "output_type": "stream",
     "text": [
      "b'frog'\n"
     ]
    },
    {
     "data": {
      "image/png": "[encoded data removed]",
      "text/plain": [
       "<PIL.Image.Image image mode=RGB size=32x32 at 0x7FD6580BAC88>"
      ]
     },
     "metadata": {},
     "output_type": "display_data"
    }
   ],
   "source": [
    "from IPython.core.display import display\n",
    "from scipy.misc.pilutil import toimage\n",
    "import numpy as np\n",
    "\n",
    "images, labels = dataset.get_batch(5)\n",
    "for img, lab in zip(images, labels):\n",
    "    print(dataset.map_name(np.argmax(lab)))\n",
    "    display(toimage(img))    "
   ]
  },
  {
   "cell_type": "markdown",
   "metadata": {
    "collapsed": true
   },
   "source": [
    "## build Model"
   ]
  },
  {
   "cell_type": "code",
   "execution_count": 3,
   "metadata": {
    "collapsed": true
   },
   "outputs": [],
   "source": [
    "import tensorflow as tf\n",
    "\n",
    "def weight_variable(shape):\n",
    "    initial = tf.truncated_normal(shape, stddev=0.01)\n",
    "    return tf.Variable(initial)\n",
    "\n",
    "def bias_variable(shape):\n",
    "    initial = tf.constant(0.01, shape=shape)\n",
    "    return tf.Variable(initial)\n",
    "\n",
    "def conv2d(input, in_features, out_features, kernel_size, with_bias=False):\n",
    "    W = weight_variable([ kernel_size, kernel_size, in_features, out_features ])\n",
    "    conv = tf.nn.conv2d(input, W, [ 1, 1, 1, 1 ], padding='SAME')\n",
    "    if with_bias:\n",
    "        return conv + bias_variable([ out_features ])\n",
    "    return conv\n",
    "\n",
    "def avg_pool(input, s):\n",
    "    return tf.nn.avg_pool(input, [ 1, s, s, 1 ], [1, s, s, 1 ], 'VALID')"
   ]
  },
  {
   "cell_type": "code",
   "execution_count": 4,
   "metadata": {
    "collapsed": true
   },
   "outputs": [],
   "source": [
    "def batch_activ_conv(current, in_features, out_features, kernel_size, is_training, keep_prob):\n",
    "    current = tf.contrib.layers.batch_norm(current, scale=True, is_training=is_training, updates_collections=None)\n",
    "    current = tf.nn.relu(current)\n",
    "    current = conv2d(current, in_features, out_features, kernel_size)\n",
    "    current = tf.nn.dropout(current, keep_prob)\n",
    "    return current\n",
    "\n",
    "def block(input, layers, in_features, growth, is_training, keep_prob):\n",
    "    current = input\n",
    "    features = in_features\n",
    "    for idx in range(layers):\n",
    "        tmp = batch_activ_conv(current, features, growth, 3, is_training, keep_prob)\n",
    "        current = tf.concat((current, tmp), axis=3)\n",
    "        #Dense author mentions that concat will use a lot memory, a better solution is alloc a memory and reuse the memory\n",
    "        features += growth\n",
    "    return current, features"
   ]
  },
  {
   "cell_type": "code",
   "execution_count": 5,
   "metadata": {
    "collapsed": true
   },
   "outputs": [],
   "source": [
    "IMG_W = 32\n",
    "IMG_H = 32\n",
    "IN_CHANNEL = 3\n",
    "CLASS_NUM = 10\n",
    "BLOCKS = 3\n",
    "GROWTH = 12\n",
    "\n",
    "\n",
    "class DenseNet:\n",
    "    def __init__(self,  label_count, depth):\n",
    "        weight_decay = 1e-4\n",
    "        layers = int((depth - 4) / 3)\n",
    "        self.xs = tf.placeholder(\"float\", shape=[None, IMG_W, IMG_H, IN_CHANNEL])\n",
    "        self.ys = tf.placeholder(\"float\", shape=[None, label_count])\n",
    "        self.lr = tf.placeholder(\"float\", shape=[])\n",
    "        self.keep_prob = tf.placeholder(tf.float32)\n",
    "        self.is_training = tf.placeholder(\"bool\", shape=[])\n",
    "\n",
    "        conv1 = conv2d(self.xs, IN_CHANNEL, 16, 3)\n",
    "        #Block1\n",
    "        print(\"conv1:\", conv1)\n",
    "        block_1, features = block(conv1, layers, 16, GROWTH, self.is_training, self.keep_prob)\n",
    "        print(\"block 1:\", block_1)\n",
    "        #Transition Layer 1 => BN, relu, 1*1 conv, pooling\n",
    "        trans_1 = batch_activ_conv(block_1, features, features, 1, self.is_training, self.keep_prob)\n",
    "        pool_1 = avg_pool(trans_1, 2)\n",
    "        print(\"transition 1:\", pool_1)\n",
    "        #Block2\n",
    "        block_2, features = block(pool_1, layers, features, GROWTH, self.is_training, self.keep_prob)\n",
    "        print(\"block 2:\", block_2)\n",
    "        #Transition Layer 2 => BN, relu, 1*1 conv, pooling\n",
    "        trans_2 = batch_activ_conv(block_2, features, features, 1, self.is_training, self.keep_prob)\n",
    "        pool_2 = avg_pool(trans_2, 2)\n",
    "        print(\"transition 2:\", pool_2)\n",
    "        #Block3\n",
    "        block_3, features = block(pool_2, layers, features, GROWTH, self.is_training, self.keep_prob)\n",
    "        print(\"block 3:\", block_3)            \n",
    "        #Transition Layer 3 => BN, relu, 1*1 conv, pooling\n",
    "        norm_3 = tf.contrib.layers.batch_norm(block_3, scale=True, is_training=self.is_training, updates_collections=None)\n",
    "        trans_3 = tf.nn.relu(norm_3)\n",
    "        #global pooling\n",
    "        global_pool = avg_pool(trans_3, IMG_W/4) \n",
    "        final_dim = features\n",
    "        global_pool = tf.reshape(global_pool, [ -1, final_dim ])\n",
    "        print(\"Global average:\", global_pool)\n",
    "        Wfc = weight_variable([ final_dim, label_count ])\n",
    "        bfc = bias_variable([ label_count ])\n",
    "        ys_ = tf.nn.softmax( tf.matmul(global_pool, Wfc) + bfc )\n",
    "\n",
    "        self.cross_entropy = -tf.reduce_mean(self.ys * tf.log(ys_ + 1e-12))\n",
    "        l2 = tf.add_n([tf.nn.l2_loss(var) for var in tf.trainable_variables()])\n",
    "        self.train_step = tf.train.MomentumOptimizer(self.lr, 0.9, use_nesterov=True).minimize(self.cross_entropy + l2 * weight_decay)\n",
    "        correct_prediction = tf.equal(tf.argmax(ys_, 1), tf.argmax(self.ys, 1))\n",
    "        self.accuracy = tf.reduce_mean(tf.cast(correct_prediction, \"float\"))\n",
    "        self.predict = tf.argmax(ys_, 1)"
   ]
  },
  {
   "cell_type": "markdown",
   "metadata": {},
   "source": [
    "## Start training"
   ]
  },
  {
   "cell_type": "code",
   "execution_count": 6,
   "metadata": {
    "collapsed": false
   },
   "outputs": [],
   "source": [
    "from cifar_dataset import cifar_dataset\n",
    "\n",
    "SAVE = \"save/dense.ckpt\"\n",
    "\n",
    "training_process = []\n",
    "def run_model(label_count, depth):\n",
    "    net = DenseNet(label_count, depth)\n",
    "    saver = tf.train.Saver()\n",
    "    batch_size = 64\n",
    "    learning_rate = 0.1\n",
    "    best_acc = 0\n",
    "    best_valid_acc = 0    \n",
    "    with tf.Session() as sess:\n",
    "        sess.run(tf.global_variables_initializer())\n",
    "        for epoch in range(1, 1+25000):\n",
    "            if epoch == 3000: learning_rate = 0.01\n",
    "            if epoch == 6000: learning_rate = 0.001\n",
    "            if epoch == 12000: learning_rate = 0.0001\n",
    "            x_, y_ = dataset.get_batch(batch_size)\n",
    "            feed_dict = {net.xs: x_, net.ys: y_, net.lr: learning_rate, net.is_training: True, net.keep_prob: 0.8}\n",
    "            sess.run(net.train_step,feed_dict = feed_dict)\n",
    "            if epoch % 100 == 0:\n",
    "                x_, y_ = dataset.get_batch(128)\n",
    "                feed_dict = {net.xs: x_, net.ys: y_, net.lr: learning_rate, net.is_training: False, net.keep_prob: 1}\n",
    "                cost, acc = sess.run([ net.cross_entropy, net.accuracy ],feed_dict = feed_dict)\n",
    "                x_, y_ = dataset.get_valid()\n",
    "                feed_dict = {net.xs: x_, net.ys: y_, net.lr: learning_rate, net.is_training: False, net.keep_prob: 1}\n",
    "                valid_cost, valid_acc = sess.run([ net.cross_entropy, net.accuracy ],feed_dict = feed_dict)\n",
    "                training_process.append([acc, valid_acc])\n",
    "                if best_acc <= acc:\n",
    "                    best_acc = acc\n",
    "                    best_valid_acc = valid_acc\n",
    "                    print(saver.save(sess, SAVE, global_step = epoch))\n",
    "                    print( \"echo:{0},training cost:{1:.3f}, acc:{2:.3f}, validation cost:{3:.3f}, acc:{4:.3f}\".format( epoch, cost, acc, valid_cost, valid_acc))\n",
    "                if epoch % 1000 == 0:\n",
    "                    print( \"echo:{0},training cost:{1:.3f}, acc:{2:.3f}, validation cost:{3:.3f}, acc:{4:.3f}\".format( epoch, cost, acc, valid_cost, valid_acc))\n",
    "    print(\"best training acc: {0:.3f}, validation acc:{1:.3f}\".format(best_acc, best_valid_acc))\n",
    "    return net    "
   ]
  },
  {
   "cell_type": "code",
   "execution_count": 7,
   "metadata": {
    "collapsed": false
   },
   "outputs": [
    {
     "name": "stdout",
     "output_type": "stream",
     "text": [
      "conv1: Tensor(\"Conv2D:0\", shape=(?, 32, 32, 16), dtype=float32)\n",
      "block 1: Tensor(\"concat_11:0\", shape=(?, 32, 32, 160), dtype=float32)\n",
      "transition 1: Tensor(\"AvgPool:0\", shape=(?, 16, 16, 160), dtype=float32)\n",
      "block 2: Tensor(\"concat_23:0\", shape=(?, 16, 16, 304), dtype=float32)\n",
      "transition 2: Tensor(\"AvgPool_1:0\", shape=(?, 8, 8, 304), dtype=float32)\n",
      "block 3: Tensor(\"concat_35:0\", shape=(?, 8, 8, 448), dtype=float32)\n",
      "Global average: Tensor(\"Reshape:0\", shape=(?, 448), dtype=float32)\n",
      "save/dense.ckpt-100\n",
      "echo:100,training cost:0.229, acc:0.172, validation cost:0.230, acc:0.105\n",
      "save/dense.ckpt-600\n",
      "echo:600,training cost:0.226, acc:0.188, validation cost:0.226, acc:0.156\n",
      "save/dense.ckpt-800\n",
      "echo:800,training cost:0.221, acc:0.328, validation cost:0.222, acc:0.301\n",
      "save/dense.ckpt-900\n",
      "echo:900,training cost:0.216, acc:0.336, validation cost:0.217, acc:0.279\n",
      "echo:1000,training cost:0.213, acc:0.258, validation cost:0.214, acc:0.229\n",
      "echo:2000,training cost:0.233, acc:0.133, validation cost:0.214, acc:0.188\n",
      "save/dense.ckpt-2100\n",
      "echo:2100,training cost:0.166, acc:0.391, validation cost:0.164, acc:0.379\n",
      "save/dense.ckpt-2200\n",
      "echo:2200,training cost:0.162, acc:0.461, validation cost:0.169, acc:0.461\n",
      "save/dense.ckpt-2500\n",
      "echo:2500,training cost:0.129, acc:0.547, validation cost:0.129, acc:0.541\n",
      "save/dense.ckpt-2800\n",
      "echo:2800,training cost:0.109, acc:0.633, validation cost:0.114, acc:0.588\n",
      "echo:3000,training cost:0.180, acc:0.305, validation cost:0.194, acc:0.279\n",
      "save/dense.ckpt-3400\n",
      "echo:3400,training cost:0.111, acc:0.664, validation cost:0.112, acc:0.588\n",
      "save/dense.ckpt-3500\n",
      "echo:3500,training cost:0.087, acc:0.727, validation cost:0.106, acc:0.607\n",
      "echo:4000,training cost:0.094, acc:0.664, validation cost:0.096, acc:0.652\n",
      "save/dense.ckpt-4400\n",
      "echo:4400,training cost:0.069, acc:0.766, validation cost:0.087, acc:0.684\n",
      "save/dense.ckpt-4800\n",
      "echo:4800,training cost:0.077, acc:0.773, validation cost:0.082, acc:0.701\n",
      "echo:5000,training cost:0.081, acc:0.711, validation cost:0.082, acc:0.719\n",
      "save/dense.ckpt-5100\n",
      "echo:5100,training cost:0.051, acc:0.820, validation cost:0.074, acc:0.725\n",
      "save/dense.ckpt-5300\n",
      "echo:5300,training cost:0.039, acc:0.867, validation cost:0.056, acc:0.801\n",
      "echo:6000,training cost:0.048, acc:0.820, validation cost:0.072, acc:0.762\n",
      "save/dense.ckpt-6900\n",
      "echo:6900,training cost:0.031, acc:0.898, validation cost:0.056, acc:0.793\n",
      "echo:7000,training cost:0.028, acc:0.883, validation cost:0.060, acc:0.809\n",
      "echo:8000,training cost:0.063, acc:0.805, validation cost:0.057, acc:0.805\n",
      "save/dense.ckpt-8600\n",
      "echo:8600,training cost:0.029, acc:0.898, validation cost:0.062, acc:0.779\n",
      "save/dense.ckpt-8900\n",
      "echo:8900,training cost:0.035, acc:0.898, validation cost:0.054, acc:0.820\n",
      "echo:9000,training cost:0.038, acc:0.867, validation cost:0.060, acc:0.785\n",
      "echo:10000,training cost:0.036, acc:0.867, validation cost:0.057, acc:0.797\n",
      "echo:11000,training cost:0.051, acc:0.805, validation cost:0.055, acc:0.812\n",
      "save/dense.ckpt-11600\n",
      "echo:11600,training cost:0.039, acc:0.898, validation cost:0.057, acc:0.830\n",
      "echo:12000,training cost:0.049, acc:0.789, validation cost:0.054, acc:0.811\n",
      "save/dense.ckpt-12800\n",
      "echo:12800,training cost:0.028, acc:0.914, validation cost:0.054, acc:0.830\n",
      "echo:13000,training cost:0.056, acc:0.820, validation cost:0.066, acc:0.775\n",
      "echo:14000,training cost:0.041, acc:0.852, validation cost:0.056, acc:0.805\n",
      "echo:15000,training cost:0.055, acc:0.812, validation cost:0.055, acc:0.818\n",
      "echo:16000,training cost:0.040, acc:0.859, validation cost:0.051, acc:0.824\n",
      "echo:17000,training cost:0.037, acc:0.875, validation cost:0.058, acc:0.814\n",
      "echo:18000,training cost:0.034, acc:0.852, validation cost:0.054, acc:0.814\n",
      "echo:19000,training cost:0.042, acc:0.859, validation cost:0.058, acc:0.799\n",
      "echo:20000,training cost:0.043, acc:0.844, validation cost:0.050, acc:0.836\n",
      "echo:21000,training cost:0.040, acc:0.867, validation cost:0.056, acc:0.801\n",
      "echo:22000,training cost:0.055, acc:0.828, validation cost:0.058, acc:0.805\n",
      "echo:23000,training cost:0.065, acc:0.789, validation cost:0.051, acc:0.822\n",
      "echo:24000,training cost:0.044, acc:0.836, validation cost:0.054, acc:0.822\n",
      "save/dense.ckpt-24400\n",
      "echo:24400,training cost:0.023, acc:0.914, validation cost:0.054, acc:0.803\n",
      "echo:25000,training cost:0.047, acc:0.820, validation cost:0.055, acc:0.791\n",
      "best training acc: 0.914, validation acc:0.803\n"
     ]
    }
   ],
   "source": [
    "net = run_model(CLASS_NUM, 40)"
   ]
  },
  {
   "cell_type": "markdown",
   "metadata": {},
   "source": [
    "# Plot the traninig process"
   ]
  },
  {
   "cell_type": "code",
   "execution_count": 8,
   "metadata": {
    "collapsed": false
   },
   "outputs": [
    {
     "data": {
      "image/png": "[encoded data removed]",
      "text/plain": [
       "<matplotlib.figure.Figure at 0x7fd4f759ffd0>"
      ]
     },
     "metadata": {},
     "output_type": "display_data"
    }
   ],
   "source": [
    "import pandas as pd\n",
    "import matplotlib.pyplot as plt\n",
    "import numpy as np\n",
    "\n",
    "data = pd.DataFrame(training_process,index=np.arange(len(training_process)*100, step =100), columns =['accuracy','validation acc'])\n",
    "data.plot()\n",
    "plt.show()"
   ]
  },
  {
   "cell_type": "code",
   "execution_count": 9,
   "metadata": {
    "collapsed": false
   },
   "outputs": [
    {
     "name": "stdout",
     "output_type": "stream",
     "text": [
      "Successfully loaded: save/dense.ckpt-24400\n"
     ]
    }
   ],
   "source": [
    "saver = tf.train.Saver()\n",
    "checkpoint = tf.train.get_checkpoint_state(\"save\")\n",
    "sess = tf.InteractiveSession()\n",
    "sess.run(tf.global_variables_initializer())\n",
    "if checkpoint and checkpoint.model_checkpoint_path:\n",
    "    saver.restore(sess, checkpoint.model_checkpoint_path)\n",
    "    print( \"Successfully loaded:\", checkpoint.model_checkpoint_path)       "
   ]
  },
  {
   "cell_type": "code",
   "execution_count": 15,
   "metadata": {
    "collapsed": false
   },
   "outputs": [
    {
     "name": "stdout",
     "output_type": "stream",
     "text": [
      "b'bird'\n"
     ]
    },
    {
     "data": {
      "image/png": "[encoded data removed]",
      "text/plain": [
       "<PIL.Image.Image image mode=RGB size=128x128 at 0x7FD51A95F978>"
      ]
     },
     "metadata": {},
     "output_type": "display_data"
    },
    {
     "name": "stdout",
     "output_type": "stream",
     "text": [
      "b'horse'\n"
     ]
    },
    {
     "data": {
      "image/png": "[encoded data removed]",
      "text/plain": [
       "<PIL.Image.Image image mode=RGB size=128x128 at 0x7FD51A95FA20>"
      ]
     },
     "metadata": {},
     "output_type": "display_data"
    },
    {
     "name": "stdout",
     "output_type": "stream",
     "text": [
      "b'airplane'\n"
     ]
    },
    {
     "data": {
      "image/png": "[encoded data removed]",
      "text/plain": [
       "<PIL.Image.Image image mode=RGB size=128x128 at 0x7FD51A95FB00>"
      ]
     },
     "metadata": {},
     "output_type": "display_data"
    },
    {
     "name": "stdout",
     "output_type": "stream",
     "text": [
      "b'dog'\n"
     ]
    },
    {
     "data": {
      "image/png": "[encoded data removed]",
      "text/plain": [
       "<PIL.Image.Image image mode=RGB size=128x128 at 0x7FD51A95FA58>"
      ]
     },
     "metadata": {},
     "output_type": "display_data"
    },
    {
     "name": "stdout",
     "output_type": "stream",
     "text": [
      "b'horse'\n"
     ]
    },
    {
     "data": {
      "image/png": "[encoded data removed]",
      "text/plain": [
       "<PIL.Image.Image image mode=RGB size=128x128 at 0x7FD51A95FA58>"
      ]
     },
     "metadata": {},
     "output_type": "display_data"
    }
   ],
   "source": [
    "x_, y_ = dataset.get_valid(5)\n",
    "feed_dict = {net.xs: x_, net.ys: y_, net.lr: 0.1, net.is_training: False, net.keep_prob: 1}\n",
    "predict = sess.run( (net.predict), feed_dict = feed_dict)\n",
    "for img, lab in zip(x_, predict):\n",
    "    print(dataset.map_name(lab))\n",
    "    display(toimage(img).resize((128,128)))     "
   ]
  },
  {
   "cell_type": "code",
   "execution_count": null,
   "metadata": {
    "collapsed": true
   },
   "outputs": [],
   "source": []
  }
 ],
 "metadata": {
  "kernelspec": {
   "display_name": "Python 3",
   "language": "python",
   "name": "python3"
  },
  "language_info": {
   "codemirror_mode": {
    "name": "ipython",
    "version": 3
   },
   "file_extension": ".py",
   "mimetype": "text/x-python",
   "name": "python",
   "nbconvert_exporter": "python",
   "pygments_lexer": "ipython3",
   "version": "3.4.3"
  }
 },
 "nbformat": 4,
 "nbformat_minor": 1
}
