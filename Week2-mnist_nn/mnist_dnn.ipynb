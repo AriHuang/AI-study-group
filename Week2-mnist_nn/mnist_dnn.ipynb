{
 "cells": [
  {
   "cell_type": "markdown",
   "metadata": {},
   "source": [
    "# Demo program  \n",
    "## DNN for mnist clustering   \n",
    "#### by Sting Huang"
   ]
  },
  {
   "cell_type": "code",
   "execution_count": 2,
   "metadata": {
    "collapsed": false
   },
   "outputs": [
    {
     "name": "stdout",
     "output_type": "stream",
     "text": [
      "Extracting MNIST_data/train-images-idx3-ubyte.gz\n",
      "Extracting MNIST_data/train-labels-idx1-ubyte.gz\n",
      "Extracting MNIST_data/t10k-images-idx3-ubyte.gz\n",
      "Extracting MNIST_data/t10k-labels-idx1-ubyte.gz\n",
      "\n",
      "Tensorflow version: 1.0.0-rc2\n"
     ]
    }
   ],
   "source": [
    "import tensorflow as tf\n",
    "from tensorflow.python.framework import ops\n",
    "from mnist_dataset import read_data_sets\n",
    "\n",
    "ops.reset_default_graph()  #< ==== reset everything\n",
    "\n",
    "mnist = read_data_sets('MNIST_data', one_hot=True)\n",
    "\n",
    "SAVE = \"save/dnn.ckpt\"\n",
    "print(\"\\nTensorflow version:\", tf.__version__)"
   ]
  },
  {
   "cell_type": "markdown",
   "metadata": {},
   "source": [
    "# Print training data\n",
    "## topic 1, one hot encoding\n",
    "## topic 2, shape"
   ]
  },
  {
   "cell_type": "code",
   "execution_count": 3,
   "metadata": {
    "collapsed": false
   },
   "outputs": [
    {
     "name": "stdout",
     "output_type": "stream",
     "text": [
      "image shape: (3, 784)  output shape: (3, 10)\n",
      "Label: 7 ,one hot encode => [ 0.  0.  0.  0.  0.  0.  0.  1.  0.  0.]\n"
     ]
    },
    {
     "data": {
      "image/png": "[encoded data removed]",
      "text/plain": [
       "<PIL.Image.Image image mode=L size=128x128 at 0x7FA124922F60>"
      ]
     },
     "metadata": {},
     "output_type": "display_data"
    },
    {
     "name": "stdout",
     "output_type": "stream",
     "text": [
      "Label: 3 ,one hot encode => [ 0.  0.  0.  1.  0.  0.  0.  0.  0.  0.]\n"
     ]
    },
    {
     "data": {
      "image/png": "[encoded data removed]",
      "text/plain": [
       "<PIL.Image.Image image mode=L size=128x128 at 0x7FA1242AD748>"
      ]
     },
     "metadata": {},
     "output_type": "display_data"
    },
    {
     "name": "stdout",
     "output_type": "stream",
     "text": [
      "Label: 4 ,one hot encode => [ 0.  0.  0.  0.  1.  0.  0.  0.  0.  0.]\n"
     ]
    },
    {
     "data": {
      "image/png": "[encoded data removed]",
      "text/plain": [
       "<PIL.Image.Image image mode=L size=128x128 at 0x7FA124922F60>"
      ]
     },
     "metadata": {},
     "output_type": "display_data"
    }
   ],
   "source": [
    "from IPython.core.display import display\n",
    "from scipy.misc.pilutil import toimage\n",
    "import numpy as np\n",
    "\n",
    "batch_xs, batch_ys = mnist.train.next_batch(3)\n",
    "print(\"image shape:\", np.shape(batch_xs), \" output shape:\", np.shape(batch_ys))\n",
    "for img , label in zip(batch_xs, batch_ys):\n",
    "    print(\"Label:\", np.argmax(label), \",one hot encode =>\", label)\n",
    "    display(toimage(img.reshape([28,28])).resize((128, 128)))  "
   ]
  },
  {
   "cell_type": "markdown",
   "metadata": {},
   "source": [
    "# Build Model\n",
    "## TAG1: Dropout\n",
    "## TAG2: softmax"
   ]
  },
  {
   "cell_type": "code",
   "execution_count": 4,
   "metadata": {
    "collapsed": true
   },
   "outputs": [],
   "source": [
    "def weight_variable(shape):\n",
    "    initial = tf.truncated_normal(shape, stddev=0.1)  # create the weight value\n",
    "    return tf.Variable(initial)\n",
    "def bias_variable(shape):\n",
    "    initial = tf.constant(0.1, shape=shape)\n",
    "    return tf.Variable(initial)"
   ]
  },
  {
   "cell_type": "code",
   "execution_count": 5,
   "metadata": {
    "collapsed": false
   },
   "outputs": [
    {
     "name": "stdout",
     "output_type": "stream",
     "text": [
      "x_ shape: Tensor(\"Shape:0\", shape=(2,), dtype=int32)\n",
      "FC1 shape: Tensor(\"Shape_1:0\", shape=(2,), dtype=int32)\n",
      "FC2 shape: Tensor(\"Shape_2:0\", shape=(2,), dtype=int32)\n",
      "FC3 shape: Tensor(\"Shape_3:0\", shape=(2,), dtype=int32)\n"
     ]
    }
   ],
   "source": [
    "x_ = tf.placeholder(tf.float32, [None, 784], name=\"x_\")\n",
    "y_ = tf.placeholder(tf.float32, [None, 10], name=\"y_\")\n",
    "keep_prob = tf.placeholder(tf.float32)\n",
    "\n",
    "print(\"x_ shape:\", tf.shape(x_))\n",
    "Weight_1 = weight_variable([784, 625])\n",
    "Bias_1 = bias_variable([625])\n",
    "x_drop = tf.nn.dropout(x_, keep_prob)  #TAG1:dropout\n",
    "FC1 = tf.nn.relu(tf.matmul(x_drop, Weight_1) + Bias_1)  #Shape 784->625\n",
    "print(\"FC1 shape:\", tf.shape(FC1))\n",
    "\n",
    "Weight_2 = weight_variable([625, 400])\n",
    "Bias_2 = bias_variable([400])\n",
    "FC1_drop = tf.nn.dropout(FC1 , keep_prob)  #TAG1:dropout\n",
    "FC2 = tf.nn.relu(tf.matmul(FC1_drop, Weight_2) + Bias_2)  #Shape 625->400\n",
    "print(\"FC2 shape:\", tf.shape(FC2))\n",
    "\n",
    "Weight_3 = weight_variable([400, 256])\n",
    "Bias_3 = bias_variable([256])\n",
    "FC2_drop = tf.nn.dropout(FC2 , keep_prob)  #TAG1:dropout\n",
    "FC3 = tf.nn.relu(tf.matmul(FC2_drop, Weight_3) + Bias_3)  #Shape 400->256\n",
    "print(\"FC3 shape:\", tf.shape(FC3))\n",
    "\n",
    "Weight_4 = weight_variable([256, 10])\n",
    "Bias_4 = bias_variable([10])\n",
    "FC3_drop = tf.nn.dropout(FC3 , keep_prob)  #TAG1:dropout\n",
    "y = tf.nn.softmax(tf.matmul(FC3_drop, Weight_4) + Bias_4, name= \"y\")  #Shape 256->10, TAG2: softmax\n",
    "pred = tf.argmax(y, 1)\n",
    "\n",
    "cross_entropy_ = tf.nn.softmax_cross_entropy_with_logits( labels=y_, logits= y, name='xentropy')\n",
    "cross_entropy = tf.reduce_mean(cross_entropy_, name='xentropy_mean')\n",
    "\n",
    "LR = 1e-3\n",
    "optimizer = tf.train.AdamOptimizer(LR)\n",
    "#optimizer = tf.train.GradientDescentOptimizer(LR)\n",
    "trainer = optimizer.minimize(cross_entropy)\n",
    "\n",
    "correct_prediction = tf.equal(tf.argmax(y, 1), tf.argmax(y_, 1))\n",
    "accuracy = tf.reduce_mean(tf.cast(correct_prediction, tf.float32))"
   ]
  },
  {
   "cell_type": "markdown",
   "metadata": {},
   "source": [
    "# Check result before start training"
   ]
  },
  {
   "cell_type": "code",
   "execution_count": 6,
   "metadata": {
    "collapsed": false
   },
   "outputs": [
    {
     "name": "stdout",
     "output_type": "stream",
     "text": [
      "Label: 3\n"
     ]
    },
    {
     "data": {
      "image/png": "[encoded data removed]",
      "text/plain": [
       "<PIL.Image.Image image mode=L size=128x128 at 0x7FA12338EEF0>"
      ]
     },
     "metadata": {},
     "output_type": "display_data"
    },
    {
     "name": "stdout",
     "output_type": "stream",
     "text": [
      "Label: 8\n"
     ]
    },
    {
     "data": {
      "image/png": "[encoded data removed]",
      "text/plain": [
       "<PIL.Image.Image image mode=L size=128x128 at 0x7FA1234670F0>"
      ]
     },
     "metadata": {},
     "output_type": "display_data"
    },
    {
     "name": "stdout",
     "output_type": "stream",
     "text": [
      "Label: 8\n"
     ]
    },
    {
     "data": {
      "image/png": "[encoded data removed]",
      "text/plain": [
       "<PIL.Image.Image image mode=L size=128x128 at 0x7FA123467198>"
      ]
     },
     "metadata": {},
     "output_type": "display_data"
    },
    {
     "name": "stdout",
     "output_type": "stream",
     "text": [
      "Label: 9\n"
     ]
    },
    {
     "data": {
      "image/png": "[encoded data removed]",
      "text/plain": [
       "<PIL.Image.Image image mode=L size=128x128 at 0x7FA123467198>"
      ]
     },
     "metadata": {},
     "output_type": "display_data"
    },
    {
     "name": "stdout",
     "output_type": "stream",
     "text": [
      "Label: 9\n"
     ]
    },
    {
     "data": {
      "image/png": "[encoded data removed]",
      "text/plain": [
       "<PIL.Image.Image image mode=L size=128x128 at 0x7FA1234672B0>"
      ]
     },
     "metadata": {},
     "output_type": "display_data"
    }
   ],
   "source": [
    "import random \n",
    "\n",
    "sess = tf.InteractiveSession()\n",
    "sess.run(tf.global_variables_initializer())\n",
    "\n",
    "result = sess.run(pred, \n",
    "            feed_dict={x_: mnist.validation.images, y_: mnist.validation.labels, keep_prob:1})  \n",
    "result_pair = zip(mnist.validation.images, result)\n",
    "for img , label in random.sample(list(result_pair), 5):\n",
    "    print(\"Label:\", label)\n",
    "    display(toimage(img.reshape([28,28])).resize((128, 128)))      "
   ]
  },
  {
   "cell_type": "markdown",
   "metadata": {},
   "source": [
    "# Start Training\n",
    "## TAG3: mini-batch"
   ]
  },
  {
   "cell_type": "code",
   "execution_count": 7,
   "metadata": {
    "collapsed": false
   },
   "outputs": [
    {
     "name": "stdout",
     "output_type": "stream",
     "text": [
      "50, cost:1.779, train accurarcy:0.686, valid accurarcy:0.686, patience:10\n",
      "save model: save/dnn.ckpt\n",
      "100, cost:1.653, train accurarcy:0.809, valid accurarcy:0.809, patience:15\n",
      "save model: save/dnn.ckpt\n",
      "150, cost:1.626, train accurarcy:0.835, valid accurarcy:0.835, patience:15\n",
      "save model: save/dnn.ckpt\n",
      "200, cost:1.583, train accurarcy:0.879, valid accurarcy:0.879, patience:15\n",
      "save model: save/dnn.ckpt\n",
      "250, cost:1.559, train accurarcy:0.903, valid accurarcy:0.903, patience:15\n",
      "save model: save/dnn.ckpt\n",
      "300, cost:1.554, train accurarcy:0.908, valid accurarcy:0.908, patience:15\n",
      "save model: save/dnn.ckpt\n",
      "350, cost:1.541, train accurarcy:0.921, valid accurarcy:0.921, patience:15\n",
      "save model: save/dnn.ckpt\n",
      "400, cost:1.537, train accurarcy:0.925, valid accurarcy:0.925, patience:15\n",
      "save model: save/dnn.ckpt\n",
      "450, cost:1.528, train accurarcy:0.934, valid accurarcy:0.934, patience:15\n",
      "save model: save/dnn.ckpt\n",
      "500, cost:1.534, train accurarcy:0.927, valid accurarcy:0.927, patience:15\n",
      "550, cost:1.538, train accurarcy:0.924, valid accurarcy:0.924, patience:14\n",
      "600, cost:1.533, train accurarcy:0.930, valid accurarcy:0.930, patience:13\n",
      "650, cost:1.528, train accurarcy:0.932, valid accurarcy:0.932, patience:12\n",
      "700, cost:1.522, train accurarcy:0.940, valid accurarcy:0.940, patience:11\n",
      "save model: save/dnn.ckpt\n",
      "750, cost:1.523, train accurarcy:0.938, valid accurarcy:0.938, patience:15\n",
      "800, cost:1.519, train accurarcy:0.942, valid accurarcy:0.942, patience:14\n",
      "save model: save/dnn.ckpt\n",
      "850, cost:1.521, train accurarcy:0.941, valid accurarcy:0.941, patience:15\n",
      "900, cost:1.521, train accurarcy:0.941, valid accurarcy:0.941, patience:14\n",
      "950, cost:1.519, train accurarcy:0.942, valid accurarcy:0.942, patience:13\n",
      "1000, cost:1.519, train accurarcy:0.942, valid accurarcy:0.942, patience:12\n",
      "1050, cost:1.512, train accurarcy:0.949, valid accurarcy:0.949, patience:11\n",
      "save model: save/dnn.ckpt\n",
      "1100, cost:1.512, train accurarcy:0.949, valid accurarcy:0.949, patience:15\n",
      "1150, cost:1.510, train accurarcy:0.951, valid accurarcy:0.951, patience:14\n",
      "save model: save/dnn.ckpt\n",
      "1200, cost:1.512, train accurarcy:0.949, valid accurarcy:0.949, patience:15\n",
      "1250, cost:1.513, train accurarcy:0.948, valid accurarcy:0.948, patience:14\n",
      "1300, cost:1.515, train accurarcy:0.946, valid accurarcy:0.946, patience:13\n",
      "1350, cost:1.507, train accurarcy:0.954, valid accurarcy:0.954, patience:12\n",
      "save model: save/dnn.ckpt\n",
      "1400, cost:1.507, train accurarcy:0.953, valid accurarcy:0.953, patience:15\n",
      "1450, cost:1.506, train accurarcy:0.955, valid accurarcy:0.955, patience:14\n",
      "save model: save/dnn.ckpt\n",
      "1500, cost:1.507, train accurarcy:0.954, valid accurarcy:0.954, patience:15\n",
      "1550, cost:1.507, train accurarcy:0.954, valid accurarcy:0.954, patience:14\n",
      "1600, cost:1.510, train accurarcy:0.951, valid accurarcy:0.951, patience:13\n",
      "1650, cost:1.513, train accurarcy:0.947, valid accurarcy:0.947, patience:12\n",
      "1700, cost:1.509, train accurarcy:0.951, valid accurarcy:0.951, patience:11\n",
      "1750, cost:1.509, train accurarcy:0.953, valid accurarcy:0.953, patience:10\n",
      "1800, cost:1.513, train accurarcy:0.948, valid accurarcy:0.948, patience:9\n",
      "1850, cost:1.511, train accurarcy:0.950, valid accurarcy:0.950, patience:8\n",
      "1900, cost:1.507, train accurarcy:0.953, valid accurarcy:0.953, patience:7\n",
      "1950, cost:1.513, train accurarcy:0.948, valid accurarcy:0.948, patience:6\n",
      "2000, cost:1.508, train accurarcy:0.953, valid accurarcy:0.953, patience:5\n",
      "2050, cost:1.513, train accurarcy:0.947, valid accurarcy:0.947, patience:4\n",
      "2100, cost:1.512, train accurarcy:0.949, valid accurarcy:0.949, patience:3\n",
      "2150, cost:1.505, train accurarcy:0.955, valid accurarcy:0.955, patience:2\n",
      "save model: save/dnn.ckpt\n",
      "2200, cost:1.503, train accurarcy:0.958, valid accurarcy:0.958, patience:15\n",
      "save model: save/dnn.ckpt\n",
      "2250, cost:1.501, train accurarcy:0.960, valid accurarcy:0.960, patience:15\n",
      "save model: save/dnn.ckpt\n",
      "2300, cost:1.501, train accurarcy:0.960, valid accurarcy:0.960, patience:15\n",
      "2350, cost:1.502, train accurarcy:0.959, valid accurarcy:0.959, patience:14\n",
      "2400, cost:1.507, train accurarcy:0.954, valid accurarcy:0.954, patience:13\n",
      "2450, cost:1.505, train accurarcy:0.956, valid accurarcy:0.956, patience:12\n",
      "2500, cost:1.505, train accurarcy:0.956, valid accurarcy:0.956, patience:11\n",
      "2550, cost:1.501, train accurarcy:0.960, valid accurarcy:0.960, patience:10\n",
      "2600, cost:1.509, train accurarcy:0.953, valid accurarcy:0.953, patience:9\n",
      "2650, cost:1.508, train accurarcy:0.953, valid accurarcy:0.953, patience:8\n",
      "2700, cost:1.501, train accurarcy:0.960, valid accurarcy:0.960, patience:7\n",
      "2750, cost:1.502, train accurarcy:0.959, valid accurarcy:0.959, patience:6\n",
      "2800, cost:1.504, train accurarcy:0.958, valid accurarcy:0.958, patience:5\n",
      "2850, cost:1.504, train accurarcy:0.957, valid accurarcy:0.957, patience:4\n",
      "2900, cost:1.500, train accurarcy:0.961, valid accurarcy:0.961, patience:3\n",
      "save model: save/dnn.ckpt\n",
      "2950, cost:1.505, train accurarcy:0.957, valid accurarcy:0.957, patience:15\n",
      "3000, cost:1.499, train accurarcy:0.962, valid accurarcy:0.962, patience:14\n",
      "save model: save/dnn.ckpt\n",
      "3050, cost:1.501, train accurarcy:0.960, valid accurarcy:0.960, patience:15\n",
      "3100, cost:1.504, train accurarcy:0.957, valid accurarcy:0.957, patience:14\n",
      "3150, cost:1.498, train accurarcy:0.963, valid accurarcy:0.963, patience:13\n",
      "save model: save/dnn.ckpt\n",
      "3200, cost:1.501, train accurarcy:0.960, valid accurarcy:0.960, patience:15\n",
      "3250, cost:1.499, train accurarcy:0.962, valid accurarcy:0.962, patience:14\n",
      "3300, cost:1.503, train accurarcy:0.958, valid accurarcy:0.958, patience:13\n",
      "3350, cost:1.500, train accurarcy:0.961, valid accurarcy:0.961, patience:12\n",
      "3400, cost:1.497, train accurarcy:0.964, valid accurarcy:0.964, patience:11\n",
      "save model: save/dnn.ckpt\n",
      "3450, cost:1.504, train accurarcy:0.957, valid accurarcy:0.957, patience:15\n",
      "3500, cost:1.498, train accurarcy:0.963, valid accurarcy:0.963, patience:14\n",
      "3550, cost:1.497, train accurarcy:0.964, valid accurarcy:0.964, patience:13\n",
      "3600, cost:1.503, train accurarcy:0.958, valid accurarcy:0.958, patience:12\n",
      "3650, cost:1.506, train accurarcy:0.955, valid accurarcy:0.955, patience:11\n",
      "3700, cost:1.498, train accurarcy:0.964, valid accurarcy:0.964, patience:10\n",
      "3750, cost:1.500, train accurarcy:0.961, valid accurarcy:0.961, patience:9\n",
      "3800, cost:1.502, train accurarcy:0.959, valid accurarcy:0.959, patience:8\n",
      "3850, cost:1.496, train accurarcy:0.965, valid accurarcy:0.965, patience:7\n",
      "save model: save/dnn.ckpt\n",
      "3900, cost:1.500, train accurarcy:0.961, valid accurarcy:0.961, patience:15\n",
      "3950, cost:1.504, train accurarcy:0.957, valid accurarcy:0.957, patience:14\n",
      "4000, cost:1.503, train accurarcy:0.959, valid accurarcy:0.959, patience:13\n",
      "4050, cost:1.504, train accurarcy:0.957, valid accurarcy:0.957, patience:12\n",
      "4100, cost:1.503, train accurarcy:0.958, valid accurarcy:0.958, patience:11\n",
      "4150, cost:1.499, train accurarcy:0.962, valid accurarcy:0.962, patience:10\n",
      "4200, cost:1.498, train accurarcy:0.963, valid accurarcy:0.963, patience:9\n",
      "4250, cost:1.507, train accurarcy:0.954, valid accurarcy:0.954, patience:8\n",
      "4300, cost:1.503, train accurarcy:0.958, valid accurarcy:0.958, patience:7\n",
      "4350, cost:1.499, train accurarcy:0.962, valid accurarcy:0.962, patience:6\n",
      "4400, cost:1.500, train accurarcy:0.962, valid accurarcy:0.962, patience:5\n",
      "4450, cost:1.498, train accurarcy:0.962, valid accurarcy:0.962, patience:4\n",
      "4500, cost:1.499, train accurarcy:0.962, valid accurarcy:0.962, patience:3\n",
      "4550, cost:1.502, train accurarcy:0.959, valid accurarcy:0.959, patience:2\n",
      "4600, cost:1.503, train accurarcy:0.958, valid accurarcy:0.958, patience:1\n",
      "early stop\n"
     ]
    }
   ],
   "source": [
    "patience = 10\n",
    "best_accurarcy = 0\n",
    "echo = 0\n",
    "\n",
    "saver = tf.train.Saver()\n",
    "\n",
    "while True:\n",
    "    echo += 1\n",
    "    #Step 1, get 100 sample from training set. TAG3: mini-batch\n",
    "    batch_xs, batch_ys = mnist.train.next_batch(100) \n",
    "    sess.run(trainer,  feed_dict={x_: batch_xs, y_: batch_ys, keep_prob:0.75})\n",
    "    if echo%50 == 0:\n",
    "        train_accurarcy, train_cost = sess.run((accuracy, cross_entropy), \n",
    "            feed_dict={x_: mnist.validation.images, y_: mnist.validation.labels, keep_prob:1})  #<== set keep prob as 1\n",
    "        valid_accurarcy = sess.run(accuracy, \n",
    "            feed_dict={x_: mnist.validation.images, y_: mnist.validation.labels, keep_prob:1})  \n",
    "        print( \"{0}, cost:{1:.3f}, train accurarcy:{2:.3f}, valid accurarcy:{3:.3f}, patience:{4}\".format(echo, train_cost, train_accurarcy, valid_accurarcy, patience))\n",
    "        if valid_accurarcy > best_accurarcy:\n",
    "            patience = 15\n",
    "            best_accurarcy = valid_accurarcy\n",
    "            print(\"save model:\", saver.save(sess, SAVE))\n",
    "        else:\n",
    "            patience -= 1\n",
    "            if patience == 0:\n",
    "                print( \"early stop\")\n",
    "                break"
   ]
  },
  {
   "cell_type": "code",
   "execution_count": 8,
   "metadata": {
    "collapsed": false
   },
   "outputs": [
    {
     "name": "stdout",
     "output_type": "stream",
     "text": [
      "Label: 9\n"
     ]
    },
    {
     "data": {
      "image/png": "[encoded data removed]",
      "text/plain": [
       "<PIL.Image.Image image mode=L size=128x128 at 0x7FA123458898>"
      ]
     },
     "metadata": {},
     "output_type": "display_data"
    },
    {
     "name": "stdout",
     "output_type": "stream",
     "text": [
      "Label: 6\n"
     ]
    },
    {
     "data": {
      "image/png": "[encoded data removed]",
      "text/plain": [
       "<PIL.Image.Image image mode=L size=128x128 at 0x7FA123458828>"
      ]
     },
     "metadata": {},
     "output_type": "display_data"
    },
    {
     "name": "stdout",
     "output_type": "stream",
     "text": [
      "Label: 7\n"
     ]
    },
    {
     "data": {
      "image/png": "[encoded data removed]",
      "text/plain": [
       "<PIL.Image.Image image mode=L size=128x128 at 0x7FA1234588D0>"
      ]
     },
     "metadata": {},
     "output_type": "display_data"
    },
    {
     "name": "stdout",
     "output_type": "stream",
     "text": [
      "Label: 6\n"
     ]
    },
    {
     "data": {
      "image/png": "[encoded data removed]",
      "text/plain": [
       "<PIL.Image.Image image mode=L size=128x128 at 0x7FA1234587B8>"
      ]
     },
     "metadata": {},
     "output_type": "display_data"
    },
    {
     "name": "stdout",
     "output_type": "stream",
     "text": [
      "Label: 4\n"
     ]
    },
    {
     "data": {
      "image/png": "[encoded data removed]",
      "text/plain": [
       "<PIL.Image.Image image mode=L size=128x128 at 0x7FA123458710>"
      ]
     },
     "metadata": {},
     "output_type": "display_data"
    }
   ],
   "source": [
    "import random\n",
    "saver.restore(sess, SAVE) #restore the best module\n",
    "result = sess.run(pred, \n",
    "            feed_dict={x_: mnist.validation.images, y_: mnist.validation.labels, keep_prob:1})  \n",
    "result_pair = zip(mnist.validation.images, result)\n",
    "for img , label in random.sample(list(result_pair), 5):\n",
    "    print(\"Label:\", label)\n",
    "    display(toimage(img.reshape([28,28])).resize((128, 128)))      "
   ]
  },
  {
   "cell_type": "code",
   "execution_count": 10,
   "metadata": {
    "collapsed": false
   },
   "outputs": [
    {
     "name": "stdout",
     "output_type": "stream",
     "text": [
      "Label: 6\n"
     ]
    },
    {
     "data": {
      "image/png": "[encoded data removed]",
      "text/plain": [
       "<PIL.Image.Image image mode=L size=128x128 at 0x7FEAC40F4940>"
      ]
     },
     "metadata": {},
     "output_type": "display_data"
    },
    {
     "data": {
      "image/png": "[encoded data removed]",
      "text/plain": [
       "<PIL.Image.Image image mode=L size=128x128 at 0x7FEAC40F4940>"
      ]
     },
     "metadata": {},
     "output_type": "display_data"
    },
    {
     "data": {
      "image/png": "[encoded data removed]",
      "text/plain": [
       "<PIL.Image.Image image mode=L size=128x128 at 0x7FEAC40F47F0>"
      ]
     },
     "metadata": {},
     "output_type": "display_data"
    },
    {
     "data": {
      "image/png": "[encoded data removed]",
      "text/plain": [
       "<PIL.Image.Image image mode=L size=128x128 at 0x7FEAC40F47F0>"
      ]
     },
     "metadata": {},
     "output_type": "display_data"
    },
    {
     "name": "stdout",
     "output_type": "stream",
     "text": [
      "Label: 4\n"
     ]
    },
    {
     "data": {
      "image/png": "[encoded data removed]",
      "text/plain": [
       "<PIL.Image.Image image mode=L size=128x128 at 0x7FEAC40F49B0>"
      ]
     },
     "metadata": {},
     "output_type": "display_data"
    },
    {
     "data": {
      "image/png": "[encoded data removed]",
      "text/plain": [
       "<PIL.Image.Image image mode=L size=128x128 at 0x7FEAC40F49B0>"
      ]
     },
     "metadata": {},
     "output_type": "display_data"
    },
    {
     "data": {
      "image/png": "[encoded data removed]",
      "text/plain": [
       "<PIL.Image.Image image mode=L size=128x128 at 0x7FEAC40F4978>"
      ]
     },
     "metadata": {},
     "output_type": "display_data"
    },
    {
     "data": {
      "image/png": "[encoded data removed]",
      "text/plain": [
       "<PIL.Image.Image image mode=L size=128x128 at 0x7FEAC40F45F8>"
      ]
     },
     "metadata": {},
     "output_type": "display_data"
    },
    {
     "name": "stdout",
     "output_type": "stream",
     "text": [
      "Label: 2\n"
     ]
    },
    {
     "data": {
      "image/png": "[encoded data removed]",
      "text/plain": [
       "<PIL.Image.Image image mode=L size=128x128 at 0x7FEAC40F4940>"
      ]
     },
     "metadata": {},
     "output_type": "display_data"
    },
    {
     "data": {
      "image/png": "[encoded data removed]",
      "text/plain": [
       "<PIL.Image.Image image mode=L size=128x128 at 0x7FEAC40F4940>"
      ]
     },
     "metadata": {},
     "output_type": "display_data"
    },
    {
     "data": {
      "image/png": "[encoded data removed]",
      "text/plain": [
       "<PIL.Image.Image image mode=L size=128x128 at 0x7FEAC40F4780>"
      ]
     },
     "metadata": {},
     "output_type": "display_data"
    },
    {
     "data": {
      "image/png": "[encoded data removed]",
      "text/plain": [
       "<PIL.Image.Image image mode=L size=128x128 at 0x7FEAC40F4780>"
      ]
     },
     "metadata": {},
     "output_type": "display_data"
    },
    {
     "name": "stdout",
     "output_type": "stream",
     "text": [
      "Label: 1\n"
     ]
    },
    {
     "data": {
      "image/png": "[encoded data removed]",
      "text/plain": [
       "<PIL.Image.Image image mode=L size=128x128 at 0x7FEAC40F49B0>"
      ]
     },
     "metadata": {},
     "output_type": "display_data"
    },
    {
     "data": {
      "image/png": "[encoded data removed]",
      "text/plain": [
       "<PIL.Image.Image image mode=L size=128x128 at 0x7FEAC40F47F0>"
      ]
     },
     "metadata": {},
     "output_type": "display_data"
    },
    {
     "data": {
      "image/png": "[encoded data removed]",
      "text/plain": [
       "<PIL.Image.Image image mode=L size=128x128 at 0x7FEAC40F47F0>"
      ]
     },
     "metadata": {},
     "output_type": "display_data"
    },
    {
     "data": {
      "image/png": "[encoded data removed]",
      "text/plain": [
       "<PIL.Image.Image image mode=L size=128x128 at 0x7FEAC40F4940>"
      ]
     },
     "metadata": {},
     "output_type": "display_data"
    },
    {
     "name": "stdout",
     "output_type": "stream",
     "text": [
      "Label: 0\n"
     ]
    },
    {
     "data": {
      "image/png": "[encoded data removed]",
      "text/plain": [
       "<PIL.Image.Image image mode=L size=128x128 at 0x7FEAC40F45F8>"
      ]
     },
     "metadata": {},
     "output_type": "display_data"
    },
    {
     "data": {
      "image/png": "[encoded data removed]",
      "text/plain": [
       "<PIL.Image.Image image mode=L size=128x128 at 0x7FEAC40F45F8>"
      ]
     },
     "metadata": {},
     "output_type": "display_data"
    },
    {
     "data": {
      "image/png": "[encoded data removed]",
      "text/plain": [
       "<PIL.Image.Image image mode=L size=128x128 at 0x7FEAC40F4978>"
      ]
     },
     "metadata": {},
     "output_type": "display_data"
    },
    {
     "data": {
      "image/png": "[encoded data removed]",
      "text/plain": [
       "<PIL.Image.Image image mode=L size=128x128 at 0x7FEAC40F4978>"
      ]
     },
     "metadata": {},
     "output_type": "display_data"
    }
   ],
   "source": [
    "import random \n",
    "result,  fc1, fc2, fc3= sess.run((pred, FC1, FC2, FC3), \n",
    "            feed_dict={x_: mnist.validation.images, y_: mnist.validation.labels, keep_prob:1})  \n",
    "result_pair = zip(mnist.validation.images, result,  fc1, fc2, fc3)\n",
    "for img , label, img_fc1, img_fc2, img_fc3 in random.sample(list(result_pair), 5):\n",
    "    print(\"Label:\", label)\n",
    "    display(toimage(img.reshape([28,28])).resize((128, 128)))      \n",
    "    display(toimage(img_fc1.reshape([25,25])).resize((128, 128)))      \n",
    "    display(toimage(img_fc2.reshape([20,20])).resize((128, 128)))      \n",
    "    display(toimage(img_fc3.reshape([16,16])).resize((128, 128)))      "
   ]
  },
  {
   "cell_type": "code",
   "execution_count": null,
   "metadata": {
    "collapsed": true
   },
   "outputs": [],
   "source": []
  }
 ],
 "metadata": {
  "kernelspec": {
   "display_name": "Python 3",
   "language": "python",
   "name": "python3"
  },
  "language_info": {
   "codemirror_mode": {
    "name": "ipython",
    "version": 3
   },
   "file_extension": ".py",
   "mimetype": "text/x-python",
   "name": "python",
   "nbconvert_exporter": "python",
   "pygments_lexer": "ipython3",
   "version": "3.4.3"
  }
 },
 "nbformat": 4,
 "nbformat_minor": 1
}
